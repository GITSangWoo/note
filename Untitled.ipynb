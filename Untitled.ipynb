{
 "cells": [
  {
   "cell_type": "code",
   "execution_count": 2,
   "id": "371b1bad-fa8c-4651-a0eb-f171245767e5",
   "metadata": {},
   "outputs": [],
   "source": [
    "import pandas as pd "
   ]
  },
  {
   "cell_type": "code",
   "execution_count": 25,
   "id": "e8948d99-f238-456d-a5c4-d847689e257a",
   "metadata": {},
   "outputs": [
    {
     "name": "stdout",
     "output_type": "stream",
     "text": [
      "<class 'pandas.core.frame.DataFrame'>\n",
      "RangeIndex: 320 entries, 0 to 319\n",
      "Data columns (total 21 columns):\n",
      " #   Column         Non-Null Count  Dtype   \n",
      "---  ------         --------------  -----   \n",
      " 0   rnum           320 non-null    object  \n",
      " 1   rank           320 non-null    object  \n",
      " 2   rankInten      320 non-null    object  \n",
      " 3   rankOldAndNew  320 non-null    object  \n",
      " 4   movieCd        320 non-null    object  \n",
      " 5   movieNm        320 non-null    object  \n",
      " 6   openDt         320 non-null    object  \n",
      " 7   salesAmt       320 non-null    object  \n",
      " 8   salesShare     320 non-null    object  \n",
      " 9   salesInten     320 non-null    object  \n",
      " 10  salesChange    320 non-null    object  \n",
      " 11  salesAcc       320 non-null    object  \n",
      " 12  audiCnt        320 non-null    object  \n",
      " 13  audiInten      320 non-null    object  \n",
      " 14  audiChange     320 non-null    object  \n",
      " 15  audiAcc        320 non-null    object  \n",
      " 16  scrnCnt        320 non-null    object  \n",
      " 17  showCnt        320 non-null    object  \n",
      " 18  load_dt        320 non-null    category\n",
      " 19  multiMovieYn   180 non-null    category\n",
      " 20  repNationCd    140 non-null    category\n",
      "dtypes: category(3), object(18)\n",
      "memory usage: 46.6+ KB\n"
     ]
    }
   ],
   "source": [
    "df=pd.read_parquet('~/tmp/test_parquet')\n",
    "df.info()"
   ]
  },
  {
   "cell_type": "code",
   "execution_count": 26,
   "id": "bcd124d5-1bcd-4a99-82a4-4ed9632ed745",
   "metadata": {},
   "outputs": [
    {
     "name": "stdout",
     "output_type": "stream",
     "text": [
      "<class 'pandas.core.frame.DataFrame'>\n",
      "<class 'pandas.core.frame.DataFrame'>\n"
     ]
    }
   ],
   "source": [
    "cols=['rnum','rank','rankInten','salesInten']\n",
    "df=df.drop(axis=1, columns=cols)\n",
    "print(type(df))\n",
    "print(type(df))"
   ]
  },
  {
   "cell_type": "code",
   "execution_count": 7,
   "id": "7be173c0-62f9-45e1-8cda-fadb90a33c56",
   "metadata": {},
   "outputs": [
    {
     "ename": "NameError",
     "evalue": "name 'multiMovieYn' is not defined",
     "output_type": "error",
     "traceback": [
      "\u001b[0;31m---------------------------------------------------------------------------\u001b[0m",
      "\u001b[0;31mNameError\u001b[0m                                 Traceback (most recent call last)",
      "Cell \u001b[0;32mIn[7], line 1\u001b[0m\n\u001b[0;32m----> 1\u001b[0m \u001b[43mmultiMovieYn\u001b[49m, repNationCd \n",
      "\u001b[0;31mNameError\u001b[0m: name 'multiMovieYn' is not defined"
     ]
    }
   ],
   "source": [
    "multiMovieYn, repNationCd "
   ]
  },
  {
   "cell_type": "code",
   "execution_count": 13,
   "id": "76b0923d-bc8f-44d6-99cd-9ea165344769",
   "metadata": {},
   "outputs": [
    {
     "data": {
      "text/plain": [
       "np.int64(865)"
      ]
     },
     "execution_count": 13,
     "metadata": {},
     "output_type": "execute_result"
    }
   ],
   "source": [
    "df['multiMovieYn'].isnull().sum()"
   ]
  },
  {
   "cell_type": "code",
   "execution_count": 14,
   "id": "939cb438-1c54-4b92-95ee-1395df88b8ca",
   "metadata": {},
   "outputs": [
    {
     "data": {
      "text/plain": [
       "multiMovieYn\n",
       "unknown    865\n",
       "Y          100\n",
       "N           80\n",
       "Name: count, dtype: int64"
      ]
     },
     "execution_count": 14,
     "metadata": {},
     "output_type": "execute_result"
    }
   ],
   "source": [
    "df['multiMovieYn'] = df['multiMovieYn'].astype('object')\n",
    "df['multiMovieYn'] = df['multiMovieYn'].fillna('unknown')\n",
    "df['multiMovieYn'].value_counts()"
   ]
  },
  {
   "cell_type": "code",
   "execution_count": 16,
   "id": "e661a698-7e8f-4cd0-a435-e4878fcd4855",
   "metadata": {},
   "outputs": [
    {
     "data": {
      "text/plain": [
       "repNationCd\n",
       "unknown    905\n",
       "F           70\n",
       "K           70\n",
       "Name: count, dtype: int64"
      ]
     },
     "execution_count": 16,
     "metadata": {},
     "output_type": "execute_result"
    }
   ],
   "source": [
    "df['repNationCd'] = df['repNationCd'].astype('object')\n",
    "df['repNationCd'] = df['repNationCd'].fillna('unknown')\n",
    "df['repNationCd'].value_counts()"
   ]
  },
  {
   "cell_type": "code",
   "execution_count": 42,
   "id": "79841e4d-b805-42ed-b171-693b638162bc",
   "metadata": {},
   "outputs": [
    {
     "name": "stdout",
     "output_type": "stream",
     "text": [
      "     movieCd    movieNm   load_dt multiMovieYn repNationCd\n",
      "4   20235974  인사이드 아웃 2  20240724            N           F\n",
      "14  20235974  인사이드 아웃 2  20240724            N           F\n",
      "53  20235974  인사이드 아웃 2  20240724            N           F\n",
      "    movieCd    movieNm   load_dt multiMovieYn repNationCd\n",
      "4  20235974  인사이드 아웃 2  20240724            N           F\n"
     ]
    },
    {
     "name": "stderr",
     "output_type": "stream",
     "text": [
      "/tmp/ipykernel_1459527/4230395816.py:24: FutureWarning: A value is trying to be set on a copy of a DataFrame or Series through chained assignment using an inplace method.\n",
      "The behavior will change in pandas 3.0. This inplace method will never work because the intermediate object on which we are setting values always behaves as a copy.\n",
      "\n",
      "For example, when doing 'df[col].method(value, inplace=True)', try using 'df.method({col: value}, inplace=True)' or df[col] = df[col].method(value) instead, to perform the operation inplace on the original object.\n",
      "\n",
      "\n",
      "  dw['multiMovieYn'].fillna(dw['multiMovieYn'].mode()[0],inplace=True)\n",
      "/tmp/ipykernel_1459527/4230395816.py:25: FutureWarning: A value is trying to be set on a copy of a DataFrame or Series through chained assignment using an inplace method.\n",
      "The behavior will change in pandas 3.0. This inplace method will never work because the intermediate object on which we are setting values always behaves as a copy.\n",
      "\n",
      "For example, when doing 'df[col].method(value, inplace=True)', try using 'df.method({col: value}, inplace=True)' or df[col] = df[col].method(value) instead, to perform the operation inplace on the original object.\n",
      "\n",
      "\n",
      "  dw['repNationCd'].fillna( dw['repNationCd'].mode()[0],inplace=True)\n"
     ]
    }
   ],
   "source": [
    "import pandas as pd\n",
    "\n",
    "def merge(load_dt=\"20240724\"):\n",
    "    read_df = pd.read_parquet('~/tmp/test_parquet')\n",
    "    cols = ['movieCd', #영화의 대표코드를 출력합니다.\n",
    "       'movieNm', #영화명(국문)을 출력합니다.\n",
    "       #'openDt', #영화의 개봉일을 출력합니다.\n",
    "       #'audiCnt', #해당일의 관객수를 출력합니다.\n",
    "       'load_dt', # 입수일자\n",
    "       'multiMovieYn', #다양성영화 유무\n",
    "       'repNationCd', #한국외국영화 유무\n",
    "       ]\n",
    "    df = read_df[cols]\n",
    "    # 울버린 만조회 지우고 ...\n",
    "    dw = df[(df['movieCd'] == '20235974') & (df['load_dt'] == int(load_dt))].copy() #날짜조건 load_dt 인자 받기 print(dw)\n",
    "\n",
    "    \n",
    "    # 카테고리 타입 -> Object\n",
    "    dw['load_dt'] = dw['load_dt'].astype('object')\n",
    "    dw['multiMovieYn'] = dw['multiMovieYn'].astype('object')\n",
    "    dw['repNationCd'] = dw['repNationCd'].astype('object')\n",
    "\n",
    "    # df[' x '].fillna(df[' x '].mode()[0],inplace=T   최빈값으로 채워넣고 그값으로 변경 \n",
    "    dw['multiMovieYn'].fillna(dw['multiMovieYn'].mode()[0],inplace=True)\n",
    "    dw['repNationCd'].fillna( dw['repNationCd'].mode()[0],inplace=True)\n",
    "    print(dw)\n",
    "\n",
    "    # 중복행제거\n",
    "    df_unique = dw.drop_duplicates()\n",
    "    print(df_unique)\n",
    "\n",
    "merge()\n",
    "    \n"
   ]
  },
  {
   "cell_type": "code",
   "execution_count": 40,
   "id": "3d0815fc-84b2-4e7e-8d1e-5c12209115d2",
   "metadata": {},
   "outputs": [
    {
     "data": {
      "text/html": [
       "<div>\n",
       "<style scoped>\n",
       "    .dataframe tbody tr th:only-of-type {\n",
       "        vertical-align: middle;\n",
       "    }\n",
       "\n",
       "    .dataframe tbody tr th {\n",
       "        vertical-align: top;\n",
       "    }\n",
       "\n",
       "    .dataframe thead th {\n",
       "        text-align: right;\n",
       "    }\n",
       "</style>\n",
       "<table border=\"1\" class=\"dataframe\">\n",
       "  <thead>\n",
       "    <tr style=\"text-align: right;\">\n",
       "      <th></th>\n",
       "      <th>movieCd</th>\n",
       "      <th>movieNm</th>\n",
       "      <th>load_dt</th>\n",
       "      <th>multiMovieYn</th>\n",
       "      <th>repNationCd</th>\n",
       "    </tr>\n",
       "  </thead>\n",
       "  <tbody>\n",
       "    <tr>\n",
       "      <th>0</th>\n",
       "      <td>20247781</td>\n",
       "      <td>데드풀과 울버린</td>\n",
       "      <td>20240724</td>\n",
       "      <td>N</td>\n",
       "      <td>F</td>\n",
       "    </tr>\n",
       "    <tr>\n",
       "      <th>1</th>\n",
       "      <td>20247781</td>\n",
       "      <td>데드풀과 울버린</td>\n",
       "      <td>20240724</td>\n",
       "      <td>N</td>\n",
       "      <td>F</td>\n",
       "    </tr>\n",
       "  </tbody>\n",
       "</table>\n",
       "</div>"
      ],
      "text/plain": [
       "    movieCd   movieNm   load_dt multiMovieYn repNationCd\n",
       "0  20247781  데드풀과 울버린  20240724            N           F\n",
       "1  20247781  데드풀과 울버린  20240724            N           F"
      ]
     },
     "execution_count": 40,
     "metadata": {},
     "output_type": "execute_result"
    }
   ],
   "source": [
    "def merge(load_dt=20240724):\n",
    "    # Parquet 파일을 읽어옴\n",
    "    read_df = pd.read_parquet(\"~/tmp/test_parquet\")\n",
    "    \n",
    "    # 필요한 컬럼만 선택\n",
    "    cols = [\n",
    "        'movieCd', # 영화의 대표코드를 출력합니다.\n",
    "        'movieNm', # 영화명(국문)을 출력합니다.\n",
    "        'load_dt', # 입수일자\n",
    "        'multiMovieYn', # 다양성영화 유무\n",
    "        'repNationCd' # 한국외국영화 유무\n",
    "    ]\n",
    "    df = read_df[cols]\n",
    "\n",
    "    # 특정 영화 조회 (날짜조건 load_dt 인자 받기)\n",
    "    df_where = df[(df['movieCd'] == \"20247781\") & (df['load_dt'] == load_dt)].copy()\n",
    "\n",
    "    df_where['load_dt'] = df_where['load_dt'].astype('object')\n",
    "    df_where['multiMovieYn'] = df_where['multiMovieYn'].astype('object')\n",
    "    df_where['repNationCd'] = df_where['repNationCd'].astype('object')\n",
    "\n",
    "    # multiMovieYn이 null이 아닌 데이터와 repNationCd가 null이 아닌 데이터를 구분\n",
    "    df_multiMovieYn_notnull = df_where[df_where['multiMovieYn'].notnull()].drop(columns='repNationCd').reset_index(drop=True)\n",
    "    df_repNationCd_notnull = df_where[df_where['repNationCd'].notnull()].drop(columns='multiMovieYn').reset_index(drop=True)\n",
    "\n",
    "    # 필요한 열만 유지하면서 병합\n",
    "    merged_df = pd.merge(df_multiMovieYn_notnull, df_repNationCd_notnull[['movieCd', 'repNationCd']], on=['movieCd'], how='left')\n",
    "\n",
    "    return merged_df\n",
    "\n",
    "merge()"
   ]
  }
 ],
 "metadata": {
  "kernelspec": {
   "display_name": "Python 3 (ipykernel)",
   "language": "python",
   "name": "python3"
  },
  "language_info": {
   "codemirror_mode": {
    "name": "ipython",
    "version": 3
   },
   "file_extension": ".py",
   "mimetype": "text/x-python",
   "name": "python",
   "nbconvert_exporter": "python",
   "pygments_lexer": "ipython3",
   "version": "3.11.9"
  }
 },
 "nbformat": 4,
 "nbformat_minor": 5
}
